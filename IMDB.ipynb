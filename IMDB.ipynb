{
  "nbformat": 4,
  "nbformat_minor": 0,
  "metadata": {
    "colab": {
      "provenance": [],
      "authorship_tag": "ABX9TyN1Hlimg1/QZIIItyAWIOAI",
      "include_colab_link": true
    },
    "kernelspec": {
      "name": "python3",
      "display_name": "Python 3"
    },
    "language_info": {
      "name": "python"
    }
  },
  "cells": [
    {
      "cell_type": "markdown",
      "metadata": {
        "id": "view-in-github",
        "colab_type": "text"
      },
      "source": [
        "<a href=\"https://colab.research.google.com/github/Atharva0920/Deep-Learning/blob/main/IMDB.ipynb\" target=\"_parent\"><img src=\"https://colab.research.google.com/assets/colab-badge.svg\" alt=\"Open In Colab\"/></a>"
      ]
    },
    {
      "cell_type": "code",
      "execution_count": 13,
      "metadata": {
        "colab": {
          "base_uri": "https://localhost:8080/"
        },
        "id": "ON-T_QPRoBne",
        "outputId": "c09d9028-dbe7-4e0b-ad2e-e31aad884942"
      },
      "outputs": [
        {
          "output_type": "stream",
          "name": "stdout",
          "text": [
            "Model: \"sequential_6\"\n",
            "_________________________________________________________________\n",
            " Layer (type)                Output Shape              Param #   \n",
            "=================================================================\n",
            " embedding_4 (Embedding)     (None, 500, 32)           320000    \n",
            "                                                                 \n",
            " flatten_4 (Flatten)         (None, 16000)             0         \n",
            "                                                                 \n",
            " dense_14 (Dense)            (None, 250)               4000250   \n",
            "                                                                 \n",
            " dense_15 (Dense)            (None, 1)                 251       \n",
            "                                                                 \n",
            "=================================================================\n",
            "Total params: 4320501 (16.48 MB)\n",
            "Trainable params: 4320501 (16.48 MB)\n",
            "Non-trainable params: 0 (0.00 Byte)\n",
            "_________________________________________________________________\n",
            "Epoch 1/2\n",
            "1250/1250 [==============================] - 88s 70ms/step - loss: 0.3422 - accuracy: 0.8416 - val_loss: 0.2812 - val_accuracy: 0.8833\n",
            "Epoch 2/2\n",
            "1250/1250 [==============================] - 90s 72ms/step - loss: 0.1051 - accuracy: 0.9628 - val_loss: 0.3548 - val_accuracy: 0.8727\n",
            "Accuracy: 87.27%\n"
          ]
        }
      ],
      "source": [
        "import numpy as np\n",
        "import pandas as pd\n",
        "from sklearn.model_selection import train_test_split\n",
        "from sklearn.preprocessing import LabelEncoder\n",
        "from tensorflow.keras.models import Sequential\n",
        "from tensorflow.keras.layers import Dense, Embedding, Flatten\n",
        "from tensorflow.keras.preprocessing.text import Tokenizer\n",
        "from tensorflow.keras.preprocessing.sequence import pad_sequences\n",
        "\n",
        "# Load CSV data\n",
        "df = pd.read_csv('IMDB Dataset.csv')\n",
        "\n",
        "# Assuming your CSV has columns 'text' for input and 'label' for output\n",
        "X = df['review'].values\n",
        "y = df['sentiment'].values\n",
        "\n",
        "# Preprocessing\n",
        "top_words = 10000  # Increase the vocabulary size to 10000\n",
        "tokenizer = Tokenizer(num_words=top_words)\n",
        "tokenizer.fit_on_texts(X)\n",
        "X = tokenizer.texts_to_sequences(X)\n",
        "\n",
        "# Pad sequences\n",
        "max_words = 500\n",
        "X = pad_sequences(X, maxlen=max_words)\n",
        "\n",
        "# Encode labels\n",
        "label_encoder = LabelEncoder()\n",
        "y = label_encoder.fit_transform(y)\n",
        "\n",
        "# Split data into train and test sets\n",
        "X_train, X_test, y_train, y_test = train_test_split(X, y, test_size=0.2, random_state=42)\n",
        "\n",
        "# Define the model\n",
        "model = Sequential()\n",
        "model.add(Embedding(input_dim=top_words, output_dim=32, input_length=max_words))\n",
        "model.add(Flatten())\n",
        "model.add(Dense(250, activation='relu'))\n",
        "model.add(Dense(1, activation='sigmoid'))\n",
        "model.compile(loss='binary_crossentropy', optimizer='adam', metrics=['accuracy'])\n",
        "\n",
        "# Model summary\n",
        "model.summary()\n",
        "\n",
        "# Train the model\n",
        "model.fit(X_train, y_train, validation_data=(X_test, y_test), epochs=2, batch_size=32, verbose=1)\n",
        "\n",
        "# Evaluate the model\n",
        "scores = model.evaluate(X_test, y_test, verbose=0)\n",
        "print(\"Accuracy: %.2f%%\" % (scores[1] * 100))\n",
        "\n"
      ]
    },
    {
      "source": [],
      "cell_type": "code",
      "metadata": {
        "id": "GWhXOz5KsbzU"
      },
      "execution_count": null,
      "outputs": []
    }
  ]
}