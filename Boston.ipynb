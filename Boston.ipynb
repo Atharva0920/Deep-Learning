{
  "nbformat": 4,
  "nbformat_minor": 0,
  "metadata": {
    "colab": {
      "provenance": [],
      "authorship_tag": "ABX9TyOg9UW2NyZKcgVt3zcl5Veh",
      "include_colab_link": true
    },
    "kernelspec": {
      "name": "python3",
      "display_name": "Python 3"
    },
    "language_info": {
      "name": "python"
    }
  },
  "cells": [
    {
      "cell_type": "markdown",
      "metadata": {
        "id": "view-in-github",
        "colab_type": "text"
      },
      "source": [
        "<a href=\"https://colab.research.google.com/github/Atharva0920/Deep-Learning/blob/main/Boston.ipynb\" target=\"_parent\"><img src=\"https://colab.research.google.com/assets/colab-badge.svg\" alt=\"Open In Colab\"/></a>"
      ]
    },
    {
      "cell_type": "code",
      "execution_count": null,
      "metadata": {
        "id": "5knuXixlWOc8"
      },
      "outputs": [],
      "source": [
        "import pandas as pd\n",
        "import numpy as np\n",
        "from sklearn.model_selection import train_test_split\n",
        "from sklearn.preprocessing import StandardScaler\n",
        "from keras.models import Sequential\n",
        "from keras.layers import Dense\n",
        "import matplotlib.pyplot as plt\n",
        "from keras.optimizers import Adam\n",
        "import matplotlib.pyplot as plt"
      ]
    },
    {
      "cell_type": "code",
      "source": [
        "df = pd.read_csv('BostonHousing.csv')"
      ],
      "metadata": {
        "id": "sdNP9Lc3XjMG"
      },
      "execution_count": null,
      "outputs": []
    },
    {
      "cell_type": "code",
      "source": [
        "X = df.iloc[:,:-1]\n",
        "y = df.iloc[:, -1]"
      ],
      "metadata": {
        "id": "jD76lODUXwOd"
      },
      "execution_count": null,
      "outputs": []
    },
    {
      "cell_type": "code",
      "source": [
        "X_train, X_test, y_train, y_test = train_test_split(X, y, test_size=0.2, random_state=42)\n"
      ],
      "metadata": {
        "id": "KUHDaXBqX7EM"
      },
      "execution_count": null,
      "outputs": []
    },
    {
      "cell_type": "code",
      "source": [
        "scaler = StandardScaler()"
      ],
      "metadata": {
        "id": "_V64Dn_aYWBm"
      },
      "execution_count": null,
      "outputs": []
    },
    {
      "cell_type": "code",
      "source": [
        "X_train_scaled = scaler.fit_transform(X_train)\n",
        "X_test_scaled = scaler.transform(X_test)"
      ],
      "metadata": {
        "id": "E6Zjc9F-YcFv"
      },
      "execution_count": null,
      "outputs": []
    },
    {
      "cell_type": "code",
      "source": [
        "model = Sequential()"
      ],
      "metadata": {
        "id": "UlVr6_f0ZnDB"
      },
      "execution_count": null,
      "outputs": []
    },
    {
      "cell_type": "code",
      "source": [
        "model.add(Dense(units=64, activation='relu', input_dim = X_train_scaled.shape[1] ))"
      ],
      "metadata": {
        "id": "KIBRv8S9Zks3"
      },
      "execution_count": null,
      "outputs": []
    },
    {
      "cell_type": "code",
      "source": [
        "model.add(Dense(units=32,activation='relu'))"
      ],
      "metadata": {
        "id": "SlZWwKX_adDL"
      },
      "execution_count": null,
      "outputs": []
    },
    {
      "cell_type": "code",
      "source": [
        "model.add(Dense(units=1, activation=None))"
      ],
      "metadata": {
        "id": "E0DbZnWAanqx"
      },
      "execution_count": null,
      "outputs": []
    },
    {
      "cell_type": "code",
      "source": [
        "model.compile(optimizer =Adam(learning_rate=0.01), loss = 'mean_squared_error' )"
      ],
      "metadata": {
        "id": "G1ctzWXZanyI"
      },
      "execution_count": null,
      "outputs": []
    },
    {
      "cell_type": "code",
      "source": [
        "model.fit(X_train_scaled, y_train, epochs=100, batch_size=31,verbose=1)"
      ],
      "metadata": {
        "colab": {
          "base_uri": "https://localhost:8080/"
        },
        "id": "YX6Tw_kMd5M0",
        "outputId": "41a22d6c-df5e-46dc-8954-e46d3111d4ba"
      },
      "execution_count": null,
      "outputs": [
        {
          "output_type": "stream",
          "name": "stdout",
          "text": [
            "Epoch 1/100\n",
            "14/14 [==============================] - 2s 6ms/step - loss: 12.7211\n",
            "Epoch 2/100\n",
            "14/14 [==============================] - 0s 7ms/step - loss: 15.7601\n",
            "Epoch 3/100\n",
            "14/14 [==============================] - 0s 7ms/step - loss: 10.0136\n",
            "Epoch 4/100\n",
            "14/14 [==============================] - 0s 3ms/step - loss: 11.0815\n",
            "Epoch 5/100\n",
            "14/14 [==============================] - 0s 5ms/step - loss: 10.1635\n",
            "Epoch 6/100\n",
            "14/14 [==============================] - 0s 3ms/step - loss: 10.0877\n",
            "Epoch 7/100\n",
            "14/14 [==============================] - 0s 10ms/step - loss: 9.6106\n",
            "Epoch 8/100\n",
            "14/14 [==============================] - 0s 10ms/step - loss: 14.2204\n",
            "Epoch 9/100\n",
            "14/14 [==============================] - 0s 11ms/step - loss: 10.9822\n",
            "Epoch 10/100\n",
            "14/14 [==============================] - 0s 10ms/step - loss: 8.7356\n",
            "Epoch 11/100\n",
            "14/14 [==============================] - 0s 6ms/step - loss: 8.0045\n",
            "Epoch 12/100\n",
            "14/14 [==============================] - 0s 8ms/step - loss: 11.3447\n",
            "Epoch 13/100\n",
            "14/14 [==============================] - 0s 7ms/step - loss: 9.9899\n",
            "Epoch 14/100\n",
            "14/14 [==============================] - 0s 5ms/step - loss: 8.2848\n",
            "Epoch 15/100\n",
            "14/14 [==============================] - 0s 5ms/step - loss: 7.5036\n",
            "Epoch 16/100\n",
            "14/14 [==============================] - 0s 5ms/step - loss: 7.6828\n",
            "Epoch 17/100\n",
            "14/14 [==============================] - 0s 6ms/step - loss: 7.3551\n",
            "Epoch 18/100\n",
            "14/14 [==============================] - 0s 13ms/step - loss: 7.7995\n",
            "Epoch 19/100\n",
            "14/14 [==============================] - 0s 11ms/step - loss: 10.0747\n",
            "Epoch 20/100\n",
            "14/14 [==============================] - 0s 15ms/step - loss: 6.6631\n",
            "Epoch 21/100\n",
            "14/14 [==============================] - 0s 11ms/step - loss: 6.3902\n",
            "Epoch 22/100\n",
            "14/14 [==============================] - 0s 8ms/step - loss: 5.8635\n",
            "Epoch 23/100\n",
            "14/14 [==============================] - 0s 8ms/step - loss: 5.8050\n",
            "Epoch 24/100\n",
            "14/14 [==============================] - 0s 7ms/step - loss: 5.8501\n",
            "Epoch 25/100\n",
            "14/14 [==============================] - 0s 8ms/step - loss: 5.5811\n",
            "Epoch 26/100\n",
            "14/14 [==============================] - 0s 5ms/step - loss: 8.7770\n",
            "Epoch 27/100\n",
            "14/14 [==============================] - 0s 11ms/step - loss: 7.3131\n",
            "Epoch 28/100\n",
            "14/14 [==============================] - 0s 9ms/step - loss: 11.3730\n",
            "Epoch 29/100\n",
            "14/14 [==============================] - 0s 8ms/step - loss: 12.2565\n",
            "Epoch 30/100\n",
            "14/14 [==============================] - 0s 12ms/step - loss: 9.6954\n",
            "Epoch 31/100\n",
            "14/14 [==============================] - 0s 6ms/step - loss: 11.7189\n",
            "Epoch 32/100\n",
            "14/14 [==============================] - 0s 9ms/step - loss: 8.8152\n",
            "Epoch 33/100\n",
            "14/14 [==============================] - 0s 7ms/step - loss: 7.1954\n",
            "Epoch 34/100\n",
            "14/14 [==============================] - 0s 8ms/step - loss: 12.1558\n",
            "Epoch 35/100\n",
            "14/14 [==============================] - 0s 9ms/step - loss: 6.8017\n",
            "Epoch 36/100\n",
            "14/14 [==============================] - 0s 8ms/step - loss: 6.6889\n",
            "Epoch 37/100\n",
            "14/14 [==============================] - 0s 9ms/step - loss: 6.4425\n",
            "Epoch 38/100\n",
            "14/14 [==============================] - 0s 9ms/step - loss: 5.2105\n",
            "Epoch 39/100\n",
            "14/14 [==============================] - 0s 10ms/step - loss: 5.4500\n",
            "Epoch 40/100\n",
            "14/14 [==============================] - 0s 10ms/step - loss: 5.2737\n",
            "Epoch 41/100\n",
            "14/14 [==============================] - 0s 7ms/step - loss: 5.0703\n",
            "Epoch 42/100\n",
            "14/14 [==============================] - 0s 5ms/step - loss: 4.7956\n",
            "Epoch 43/100\n",
            "14/14 [==============================] - 0s 4ms/step - loss: 4.6944\n",
            "Epoch 44/100\n",
            "14/14 [==============================] - 0s 6ms/step - loss: 4.5565\n",
            "Epoch 45/100\n",
            "14/14 [==============================] - 0s 3ms/step - loss: 5.9638\n",
            "Epoch 46/100\n",
            "14/14 [==============================] - 0s 3ms/step - loss: 5.8460\n",
            "Epoch 47/100\n",
            "14/14 [==============================] - 0s 4ms/step - loss: 6.5404\n",
            "Epoch 48/100\n",
            "14/14 [==============================] - 0s 8ms/step - loss: 4.8941\n",
            "Epoch 49/100\n",
            "14/14 [==============================] - 0s 6ms/step - loss: 5.6670\n",
            "Epoch 50/100\n",
            "14/14 [==============================] - 0s 6ms/step - loss: 4.8384\n",
            "Epoch 51/100\n",
            "14/14 [==============================] - 0s 8ms/step - loss: 4.3733\n",
            "Epoch 52/100\n",
            "14/14 [==============================] - 0s 4ms/step - loss: 4.6436\n",
            "Epoch 53/100\n",
            "14/14 [==============================] - 0s 6ms/step - loss: 4.3261\n",
            "Epoch 54/100\n",
            "14/14 [==============================] - 0s 6ms/step - loss: 4.7752\n",
            "Epoch 55/100\n",
            "14/14 [==============================] - 0s 5ms/step - loss: 5.2055\n",
            "Epoch 56/100\n",
            "14/14 [==============================] - 0s 7ms/step - loss: 6.5989\n",
            "Epoch 57/100\n",
            "14/14 [==============================] - 0s 6ms/step - loss: 4.6321\n",
            "Epoch 58/100\n",
            "14/14 [==============================] - 0s 4ms/step - loss: 4.0930\n",
            "Epoch 59/100\n",
            "14/14 [==============================] - 0s 13ms/step - loss: 7.6682\n",
            "Epoch 60/100\n",
            "14/14 [==============================] - 0s 11ms/step - loss: 7.4929\n",
            "Epoch 61/100\n",
            "14/14 [==============================] - 0s 11ms/step - loss: 5.8706\n",
            "Epoch 62/100\n",
            "14/14 [==============================] - 0s 6ms/step - loss: 4.9725\n",
            "Epoch 63/100\n",
            "14/14 [==============================] - 0s 2ms/step - loss: 4.7679\n",
            "Epoch 64/100\n",
            "14/14 [==============================] - 0s 3ms/step - loss: 6.5964\n",
            "Epoch 65/100\n",
            "14/14 [==============================] - 0s 2ms/step - loss: 6.4617\n",
            "Epoch 66/100\n",
            "14/14 [==============================] - 0s 2ms/step - loss: 5.3264\n",
            "Epoch 67/100\n",
            "14/14 [==============================] - 0s 2ms/step - loss: 4.1402\n",
            "Epoch 68/100\n",
            "14/14 [==============================] - 0s 2ms/step - loss: 15.0497\n",
            "Epoch 69/100\n",
            "14/14 [==============================] - 0s 3ms/step - loss: 7.8859\n",
            "Epoch 70/100\n",
            "14/14 [==============================] - 0s 2ms/step - loss: 14.9403\n",
            "Epoch 71/100\n",
            "14/14 [==============================] - 0s 3ms/step - loss: 7.0963\n",
            "Epoch 72/100\n",
            "14/14 [==============================] - 0s 2ms/step - loss: 5.4500\n",
            "Epoch 73/100\n",
            "14/14 [==============================] - 0s 3ms/step - loss: 4.7781\n",
            "Epoch 74/100\n",
            "14/14 [==============================] - 0s 3ms/step - loss: 4.7675\n",
            "Epoch 75/100\n",
            "14/14 [==============================] - 0s 3ms/step - loss: 13.4404\n",
            "Epoch 76/100\n",
            "14/14 [==============================] - 0s 2ms/step - loss: 9.3032\n",
            "Epoch 77/100\n",
            "14/14 [==============================] - 0s 2ms/step - loss: 6.7881\n",
            "Epoch 78/100\n",
            "14/14 [==============================] - 0s 3ms/step - loss: 5.3807\n",
            "Epoch 79/100\n",
            "14/14 [==============================] - 0s 2ms/step - loss: 5.0975\n",
            "Epoch 80/100\n",
            "14/14 [==============================] - 0s 3ms/step - loss: 5.0596\n",
            "Epoch 81/100\n",
            "14/14 [==============================] - 0s 3ms/step - loss: 4.9458\n",
            "Epoch 82/100\n",
            "14/14 [==============================] - 0s 3ms/step - loss: 4.8552\n",
            "Epoch 83/100\n",
            "14/14 [==============================] - 0s 3ms/step - loss: 11.3576\n",
            "Epoch 84/100\n",
            "14/14 [==============================] - 0s 2ms/step - loss: 7.6127\n",
            "Epoch 85/100\n",
            "14/14 [==============================] - 0s 2ms/step - loss: 6.4957\n",
            "Epoch 86/100\n",
            "14/14 [==============================] - 0s 2ms/step - loss: 5.6133\n",
            "Epoch 87/100\n",
            "14/14 [==============================] - 0s 2ms/step - loss: 5.2065\n",
            "Epoch 88/100\n",
            "14/14 [==============================] - 0s 2ms/step - loss: 5.9266\n",
            "Epoch 89/100\n",
            "14/14 [==============================] - 0s 2ms/step - loss: 4.9025\n",
            "Epoch 90/100\n",
            "14/14 [==============================] - 0s 2ms/step - loss: 4.2282\n",
            "Epoch 91/100\n",
            "14/14 [==============================] - 0s 2ms/step - loss: 4.1535\n",
            "Epoch 92/100\n",
            "14/14 [==============================] - 0s 2ms/step - loss: 4.5105\n",
            "Epoch 93/100\n",
            "14/14 [==============================] - 0s 2ms/step - loss: 3.9396\n",
            "Epoch 94/100\n",
            "14/14 [==============================] - 0s 3ms/step - loss: 4.6962\n",
            "Epoch 95/100\n",
            "14/14 [==============================] - 0s 3ms/step - loss: 4.4997\n",
            "Epoch 96/100\n",
            "14/14 [==============================] - 0s 3ms/step - loss: 4.8291\n",
            "Epoch 97/100\n",
            "14/14 [==============================] - 0s 3ms/step - loss: 5.2057\n",
            "Epoch 98/100\n",
            "14/14 [==============================] - 0s 3ms/step - loss: 13.2254\n",
            "Epoch 99/100\n",
            "14/14 [==============================] - 0s 2ms/step - loss: 6.4674\n",
            "Epoch 100/100\n",
            "14/14 [==============================] - 0s 2ms/step - loss: 6.3478\n"
          ]
        },
        {
          "output_type": "execute_result",
          "data": {
            "text/plain": [
              "<keras.src.callbacks.History at 0x7eccd2f41300>"
            ]
          },
          "metadata": {},
          "execution_count": 58
        }
      ]
    },
    {
      "cell_type": "code",
      "source": [
        "plt.figure(figsize=(8, 6))\n",
        "plt.hist(df['medv'], bins=30, color='skyblue', edgecolor='black')\n",
        "plt.title('Distribution of Housing Prices')\n",
        "plt.xlabel('Median Value of Owner-Occupied Homes ($1000s)')\n",
        "plt.ylabel('Frequency')\n",
        "plt.grid(True)\n",
        "plt.show()"
      ],
      "metadata": {
        "colab": {
          "base_uri": "https://localhost:8080/",
          "height": 564
        },
        "id": "tnAA2lwXl-9K",
        "outputId": "b72758e7-8f5a-448e-a093-033f228b9de4"
      },
      "execution_count": null,
      "outputs": [
        {
          "output_type": "display_data",
          "data": {
            "text/plain": [
              "<Figure size 800x600 with 1 Axes>"
            ],
            "image/png": "[encoded data removed]"
          },
          "metadata": {}
        }
      ]
    },
    {
      "cell_type": "code",
      "source": [
        "loss = model.evaluate(X_test_scaled,y_test)"
      ],
      "metadata": {
        "colab": {
          "base_uri": "https://localhost:8080/"
        },
        "id": "DhWU6-RAeywY",
        "outputId": "7396c844-fdaa-4837-cd0c-05eba4e5df39"
      },
      "execution_count": null,
      "outputs": [
        {
          "output_type": "stream",
          "name": "stdout",
          "text": [
            "4/4 [==============================] - 0s 4ms/step - loss: 11.8016\n"
          ]
        }
      ]
    },
    {
      "cell_type": "code",
      "source": [
        "print(\"Mean Squared Error\", loss)"
      ],
      "metadata": {
        "colab": {
          "base_uri": "https://localhost:8080/"
        },
        "id": "CdhZIqqxe9GI",
        "outputId": "2f5c8594-a89c-4605-cd1c-5502ee43f366"
      },
      "execution_count": null,
      "outputs": [
        {
          "output_type": "stream",
          "name": "stdout",
          "text": [
            "Mean Squared Error 11.801592826843262\n"
          ]
        }
      ]
    },
    {
      "cell_type": "code",
      "source": [
        "predictions = model.predict(X_test_scaled)"
      ],
      "metadata": {
        "colab": {
          "base_uri": "https://localhost:8080/"
        },
        "id": "jaLYfh_Ce9H2",
        "outputId": "4464e9e3-1be9-4f25-ddfe-948d0894b71d"
      },
      "execution_count": null,
      "outputs": [
        {
          "output_type": "stream",
          "name": "stdout",
          "text": [
            "4/4 [==============================] - 0s 3ms/step\n"
          ]
        }
      ]
    },
    {
      "cell_type": "code",
      "source": [
        "print(predictions)"
      ],
      "metadata": {
        "colab": {
          "base_uri": "https://localhost:8080/"
        },
        "id": "oRmo0Yv2e9La",
        "outputId": "bec4c4d9-af56-4d06-e520-561270aca709"
      },
      "execution_count": null,
      "outputs": [
        {
          "output_type": "stream",
          "name": "stdout",
          "text": [
            "[[27.346273 ]\n",
            " [35.061348 ]\n",
            " [17.021435 ]\n",
            " [24.55094  ]\n",
            " [19.096952 ]\n",
            " [20.545319 ]\n",
            " [16.84228  ]\n",
            " [15.998761 ]\n",
            " [29.19689  ]\n",
            " [18.940592 ]\n",
            " [19.555464 ]\n",
            " [18.458662 ]\n",
            " [ 7.439336 ]\n",
            " [18.980467 ]\n",
            " [18.523489 ]\n",
            " [25.062017 ]\n",
            " [20.728714 ]\n",
            " [13.052786 ]\n",
            " [46.94812  ]\n",
            " [15.338667 ]\n",
            " [24.525953 ]\n",
            " [26.942099 ]\n",
            " [14.815603 ]\n",
            " [23.876593 ]\n",
            " [17.502348 ]\n",
            " [17.923876 ]\n",
            " [19.528082 ]\n",
            " [10.303923 ]\n",
            " [18.873999 ]\n",
            " [18.18213  ]\n",
            " [24.23073  ]\n",
            " [24.054186 ]\n",
            " [23.33898  ]\n",
            " [29.160822 ]\n",
            " [16.300438 ]\n",
            " [17.957516 ]\n",
            " [31.722622 ]\n",
            " [19.627188 ]\n",
            " [19.717823 ]\n",
            " [23.838285 ]\n",
            " [16.323418 ]\n",
            " [29.438719 ]\n",
            " [52.05851  ]\n",
            " [17.843216 ]\n",
            " [26.862059 ]\n",
            " [17.30143  ]\n",
            " [14.726733 ]\n",
            " [25.761642 ]\n",
            " [22.473251 ]\n",
            " [25.229216 ]\n",
            " [18.919966 ]\n",
            " [36.49872  ]\n",
            " [16.871885 ]\n",
            " [25.888529 ]\n",
            " [46.550865 ]\n",
            " [21.254026 ]\n",
            " [18.776115 ]\n",
            " [33.612076 ]\n",
            " [24.962175 ]\n",
            " [15.645989 ]\n",
            " [26.32048  ]\n",
            " [35.076004 ]\n",
            " [32.319984 ]\n",
            " [16.1478   ]\n",
            " [23.474264 ]\n",
            " [18.553743 ]\n",
            " [17.137905 ]\n",
            " [23.602818 ]\n",
            " [29.149559 ]\n",
            " [11.84285  ]\n",
            " [22.002302 ]\n",
            " [28.05406  ]\n",
            " [ 9.590149 ]\n",
            " [22.34044  ]\n",
            " [20.747206 ]\n",
            " [ 9.668743 ]\n",
            " [20.267036 ]\n",
            " [49.157013 ]\n",
            " [14.1912985]\n",
            " [12.031048 ]\n",
            " [20.267246 ]\n",
            " [13.936897 ]\n",
            " [20.150707 ]\n",
            " [13.374775 ]\n",
            " [21.007837 ]\n",
            " [27.065447 ]\n",
            " [16.547312 ]\n",
            " [23.987217 ]\n",
            " [25.54537  ]\n",
            " [19.305433 ]\n",
            " [24.875711 ]\n",
            " [ 8.913825 ]\n",
            " [18.513544 ]\n",
            " [17.410002 ]\n",
            " [38.973537 ]\n",
            " [18.41388  ]\n",
            " [33.981476 ]\n",
            " [11.152767 ]\n",
            " [ 9.307961 ]\n",
            " [12.635483 ]\n",
            " [23.311117 ]\n",
            " [21.137247 ]]\n"
          ]
        }
      ]
    },
    {
      "cell_type": "code",
      "source": [
        "from sklearn.metrics import mean_squared_error\n",
        "\n",
        "mse = mean_squared_error(y_test, predictions)\n",
        "print(\"Mean Squared Error on Test Set:\", mse)\n"
      ],
      "metadata": {
        "colab": {
          "base_uri": "https://localhost:8080/"
        },
        "id": "Py87xghJfbwV",
        "outputId": "71c352d2-70f8-4ee1-adb9-f81f353c19e6"
      },
      "execution_count": null,
      "outputs": [
        {
          "output_type": "stream",
          "name": "stdout",
          "text": [
            "Mean Squared Error on Test Set: 11.801591648780118\n"
          ]
        }
      ]
    },
    {
      "cell_type": "code",
      "source": [
        "rmse = np.sqrt(mse)\n",
        "\n",
        "print(\"Root Mean Squared Error on Test Set:\", rmse)"
      ],
      "metadata": {
        "colab": {
          "base_uri": "https://localhost:8080/"
        },
        "id": "fIK1VukpfnqZ",
        "outputId": "31fc81c9-ed46-403a-b094-c11935c3ef4c"
      },
      "execution_count": null,
      "outputs": [
        {
          "output_type": "stream",
          "name": "stdout",
          "text": [
            "Root Mean Squared Error on Test Set: 3.43534447308856\n"
          ]
        }
      ]
    },
    {
      "cell_type": "code",
      "source": [
        "from sklearn.metrics import r2_score\n",
        "\n",
        "r2 = r2_score(y_test, predictions)\n",
        "\n",
        "print(\"R-squared (R²) Score on Test Set:\", r2)"
      ],
      "metadata": {
        "colab": {
          "base_uri": "https://localhost:8080/"
        },
        "id": "11VHjS5dfw6z",
        "outputId": "32065443-1f5a-4cad-89e4-d3fce7fb2341"
      },
      "execution_count": null,
      "outputs": [
        {
          "output_type": "stream",
          "name": "stdout",
          "text": [
            "R-squared (R²) Score on Test Set: 0.8390701919335134\n"
          ]
        }
      ]
    }
  ]
}